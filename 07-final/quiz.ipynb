{
 "cells": [
  {
   "cell_type": "markdown",
   "metadata": {},
   "source": [
    "# The Final Practice for Absolute Beginner\n",
    "\n",
    "Please complete the following form.\n",
    "Some part should be completed in the `python` code, some part should be completed in the `markdown` with text.\n",
    "\n",
    "The point of the quiz is to check whether you have understood the materials, have a chance to review all the stuffs we've learned so far. \n",
    "\n",
    "You are allow to look back to the materials, use the internet, talk to your classmates, etc.\n",
    "\n",
    "Please write it in your own words, and do not use chatGPT to complete this quiz, I WILL KNOW!\n",
    "\n",
    "After you finish the quiz, please save the whole ipynb file, and send it to me by 11:59 PM on Nov 18th.\n",
    "\n"
   ]
  },
  {
   "cell_type": "markdown",
   "metadata": {},
   "source": [
    "## 0. Who are you?\n",
    "\n",
    "Please write your **name**, **email-address**, **study major**,  and make them into a `dictionary` format.\n"
   ]
  },
  {
   "cell_type": "code",
   "execution_count": null,
   "metadata": {},
   "outputs": [],
   "source": [
    "# Edit the code below\n",
    "dic ={ } "
   ]
  },
  {
   "cell_type": "markdown",
   "metadata": {},
   "source": [
    "# Algorithms"
   ]
  },
  {
   "cell_type": "markdown",
   "metadata": {},
   "source": [
    "## 1-1. What is an algorithm? "
   ]
  },
  {
   "cell_type": "markdown",
   "metadata": {},
   "source": [
    "Double-click to edit this cell. Replace your answer here."
   ]
  },
  {
   "cell_type": "markdown",
   "metadata": {},
   "source": [
    "## 1-2. Give me a real-life example of an algorithm, and how it works?\n"
   ]
  },
  {
   "cell_type": "markdown",
   "metadata": {},
   "source": [
    "Double-click to edit this cell. Replace your answer here."
   ]
  },
  {
   "cell_type": "markdown",
   "metadata": {},
   "source": [
    "## 1-3. What are some examples in real life that are not* algorithms?"
   ]
  },
  {
   "cell_type": "markdown",
   "metadata": {},
   "source": [
    "Double-click to edit this cell. Replace your answer here."
   ]
  },
  {
   "cell_type": "markdown",
   "metadata": {},
   "source": [
    "## 1-4. Computational Thinking\n",
    "\n",
    "Computational thinking is a way of thinking about solving problems and designing systems using abstraction, algorithmic thinking, pattern recognition, and automation. In the practice of programming, it is also about digitalizing data.\n",
    "\n",
    "Please explain how computational thinking relates to programming, and how it is important/not important in the field of art.\n"
   ]
  },
  {
   "cell_type": "markdown",
   "metadata": {},
   "source": [
    "\n",
    "Double-click to edit this cell. Replace your answer here."
   ]
  },
  {
   "cell_type": "markdown",
   "metadata": {},
   "source": [
    "# Basic Syntax"
   ]
  },
  {
   "cell_type": "markdown",
   "metadata": {},
   "source": [
    "## 2-1. What does it mean if I see an equal sign `=` in Code?"
   ]
  },
  {
   "cell_type": "markdown",
   "metadata": {},
   "source": [
    "Double-click to edit this cell. Replace your answer here."
   ]
  },
  {
   "cell_type": "markdown",
   "metadata": {},
   "source": [
    "## 2-2. Find Even Numbers\n",
    "please edit the program below to find all the even numbers between 1 and 10.\n",
    "\n",
    "<2, 4, 6, 8>"
   ]
  },
  {
   "cell_type": "code",
   "execution_count": 5,
   "metadata": {},
   "outputs": [
    {
     "name": "stdout",
     "output_type": "stream",
     "text": [
      "2\n",
      "4\n",
      "6\n",
      "8\n"
     ]
    }
   ],
   "source": [
    "for i in range(1, 10):\n",
    "    # <write your code here>\n",
    "        print(i)"
   ]
  },
  {
   "cell_type": "markdown",
   "metadata": {},
   "source": [
    "## 2-3. Draw a triangle!\n",
    "Use at least one for-loop, but make sure to print the following output: \n",
    "\n",
    "Answer:</br>\n",
    "🌷🌷🌷🌷🌷 </br>\n",
    "🌷🌷🌷🌷 </br>\n",
    "🌷🌷🌷 </br>\n",
    "🌷🌷 </br>\n",
    "🌷 </br>"
   ]
  },
  {
   "cell_type": "code",
   "execution_count": 12,
   "metadata": {},
   "outputs": [
    {
     "name": "stdout",
     "output_type": "stream",
     "text": [
      "🌷🌷🌷🌷🌷\n",
      "🌷🌷🌷🌷\n",
      "🌷🌷🌷\n",
      "🌷🌷\n",
      "🌷\n"
     ]
    }
   ],
   "source": [
    "#<write your code here>"
   ]
  },
  {
   "cell_type": "markdown",
   "metadata": {},
   "source": [
    "# 2-4. New student in class\n",
    "Please complete a program to `add a new student to the class`.\n",
    "\n",
    "Answer: ['banana', 'apple', 'orange', 'beer']\n",
    "\n"
   ]
  },
  {
   "cell_type": "code",
   "execution_count": 18,
   "metadata": {},
   "outputs": [
    {
     "name": "stdout",
     "output_type": "stream",
     "text": [
      "['banana', 'apple', 'orange', 'beer']\n"
     ]
    }
   ],
   "source": [
    "students = [\"banana\", \"apple\", \"orange\"]\n",
    "new_student = \"beer\"\n",
    "\n",
    "# <write your code here>\n",
    "print(students)\n"
   ]
  },
  {
   "cell_type": "markdown",
   "metadata": {},
   "source": [
    "# 2-4. Oh no it drops out!\n",
    "Please complete a program to remove `apple` from the class.\n",
    "\n",
    "Answer:['banana', 'orange', 'beer']\n"
   ]
  },
  {
   "cell_type": "code",
   "execution_count": 21,
   "metadata": {},
   "outputs": [
    {
     "name": "stdout",
     "output_type": "stream",
     "text": [
      "['banana', 'orange', 'beer']\n"
     ]
    }
   ],
   "source": [
    "students = [\"banana\", \"apple\", \"orange\", \"beer\"]\n",
    "\n",
    "# <write your code here>\n",
    "print(students)"
   ]
  },
  {
   "cell_type": "markdown",
   "metadata": {},
   "source": [
    "# 2-5 Sorry, I only speaks 🤖 \n",
    "use a for loop to `print out the ascii code` of each character in the following string:\n",
    "\n",
    "Answer: 72 101 108 108 111 44 32 87 111 114 108 100 33 "
   ]
  },
  {
   "cell_type": "code",
   "execution_count": 25,
   "metadata": {},
   "outputs": [],
   "source": [
    "s = \"Hello, World!\"\n",
    "\n",
    "# <write your code here>"
   ]
  },
  {
   "cell_type": "markdown",
   "metadata": {},
   "source": [
    "## 2-6 Finding average\n",
    "\n",
    "Given a list of numbers, find the average of the list with a `for loop.`\n",
    "\n",
    "answer: 4.333333333333333"
   ]
  },
  {
   "cell_type": "code",
   "execution_count": 37,
   "metadata": {},
   "outputs": [
    {
     "name": "stdout",
     "output_type": "stream",
     "text": [
      "4.333333333333333\n"
     ]
    }
   ],
   "source": [
    "numbers = [-3,4,6,2,10,2,1,11,6]\n",
    "sum = 0\n",
    "\n",
    "# <write your code here>\n",
    "\n",
    "print(average)\n"
   ]
  },
  {
   "cell_type": "markdown",
   "metadata": {},
   "source": [
    "# 2-7 What year is this?\n",
    "\n",
    "Leap year (Schaltjahr) is a year that is divisible by 4, except for years that are divisible by 100 unless they are also divisible by 400.\n",
    "\n",
    "For example, year 2000 is a leap year, but 1900 is not.\n",
    "\n",
    "Please write a program to check if a year is a leap year.\n"
   ]
  },
  {
   "cell_type": "code",
   "execution_count": 31,
   "metadata": {},
   "outputs": [
    {
     "data": {
      "text/plain": [
       "False"
      ]
     },
     "execution_count": 31,
     "metadata": {},
     "output_type": "execute_result"
    }
   ],
   "source": [
    "def is_leap_year(year):\n",
    "    # <write your code here>\n",
    "    return False\n",
    "\n",
    "\n",
    "x = int(input(\"Please enter a year: \"))\n",
    "is_leap_year(x)"
   ]
  },
  {
   "cell_type": "markdown",
   "metadata": {},
   "source": [
    "## 2-8. I know how to count, but how to sum?\n",
    "\n",
    "Please write a recursive function to sum all the numbers between 1 to N.\n"
   ]
  },
  {
   "cell_type": "code",
   "execution_count": null,
   "metadata": {},
   "outputs": [],
   "source": [
    "N = int(input(\"Please enter a number: \"))"
   ]
  },
  {
   "cell_type": "markdown",
   "metadata": {},
   "source": [
    "## 2-9. I want to build an installation!\n",
    "\n",
    "The video is the Rain Room by Random International. Please write a `pseudo code` of how it functions\n",
    "\n",
    "https://www.youtube.com/watch?v=tOARXy-f_GY\n"
   ]
  },
  {
   "cell_type": "markdown",
   "metadata": {},
   "source": [
    "Double-click to edit this cell. Replace your answer here."
   ]
  },
  {
   "cell_type": "markdown",
   "metadata": {},
   "source": [
    "# Visual Culture and Image"
   ]
  },
  {
   "cell_type": "markdown",
   "metadata": {},
   "source": [
    "## 3-1. It's so dark out here\n",
    "### draw a sun"
   ]
  },
  {
   "cell_type": "code",
   "execution_count": 29,
   "metadata": {},
   "outputs": [],
   "source": [
    "from PIL import Image, ImageDraw\n",
    "\n",
    "img = Image.new(\"RGB\", (200, 200), color=(255, 255, 255))\n",
    "draw = ImageDraw.Draw(img)\n",
    "\n",
    "# Enter your code here\n",
    "\n",
    "display(img)"
   ]
  },
  {
   "cell_type": "markdown",
   "metadata": {},
   "source": [
    "## 3-2. What is a glitch?\n",
    "### explain how glitch art can act as a critique of media"
   ]
  },
  {
   "cell_type": "markdown",
   "metadata": {},
   "source": [
    "Double-click to edit this cell. Replace your answer here."
   ]
  },
  {
   "cell_type": "markdown",
   "metadata": {},
   "source": [
    "## 3-3. What is a pixels, what is the difference between a analog and a digital image?"
   ]
  },
  {
   "cell_type": "markdown",
   "metadata": {},
   "source": [
    "Double-click to edit this cell. Replace your answer here."
   ]
  },
  {
   "cell_type": "markdown",
   "metadata": {},
   "source": [
    "## 3-4. Is this a recursion? or is this a loop?\n",
    "\n",
    "What is the difference between a recursion and a loop? explain your ideas with examples."
   ]
  },
  {
   "cell_type": "markdown",
   "metadata": {},
   "source": [
    "Double-click to edit this cell. Replace your answer here."
   ]
  },
  {
   "cell_type": "markdown",
   "metadata": {},
   "source": [
    "# Media "
   ]
  },
  {
   "cell_type": "markdown",
   "metadata": {},
   "source": [
    "## 4-1. Mierle Laderman Ukeles\n",
    "\n",
    "The video is an explaination of Mierle Laderman Ukeles's work `Washing/Tracks/Maintenance: Outside`, 1973\n",
    "\n",
    "https://www.youtube.com/watch?v=WIhf3UBNTlA\n",
    "\n",
    "Please explain the work in the context of algorithms\n"
   ]
  },
  {
   "cell_type": "markdown",
   "metadata": {},
   "source": [
    "\n",
    "Double-click to edit this cell. Replace your answer here."
   ]
  },
  {
   "cell_type": "markdown",
   "metadata": {},
   "source": [
    "## 4-2. Mierle Laderman Ukeles\n",
    "\n",
    "In the same video, what is the difference between the artist and the maintenance worker?"
   ]
  },
  {
   "cell_type": "markdown",
   "metadata": {},
   "source": [
    "\n",
    "Double-click to edit this cell. Replace your answer here."
   ]
  },
  {
   "cell_type": "markdown",
   "metadata": {},
   "source": [
    "## 5 Feedback\n",
    "\n",
    "Please give me some feedback about this course.\n"
   ]
  },
  {
   "cell_type": "markdown",
   "metadata": {},
   "source": [
    "\n",
    "Double-click to edit this cell. Replace your answer here."
   ]
  }
 ],
 "metadata": {
  "kernelspec": {
   "display_name": "creative-coding",
   "language": "python",
   "name": "python3"
  },
  "language_info": {
   "codemirror_mode": {
    "name": "ipython",
    "version": 3
   },
   "file_extension": ".py",
   "mimetype": "text/x-python",
   "name": "python",
   "nbconvert_exporter": "python",
   "pygments_lexer": "ipython3",
   "version": "3.9.20"
  }
 },
 "nbformat": 4,
 "nbformat_minor": 2
}
