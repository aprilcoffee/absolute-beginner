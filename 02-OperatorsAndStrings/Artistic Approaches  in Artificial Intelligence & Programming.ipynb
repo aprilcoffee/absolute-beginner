{
 "cells": [
  {
   "cell_type": "markdown",
   "metadata": {},
   "source": [
    "Artistic Approaches in Artificial Intelligence & Programming\n",
    "\n",
    "\n",
    "- Erik Anton Reinhardt, How To? (2022)</br>\n",
    "https://www.youtube.com/watch?v=NnNMvfyRV8Y</br>\n",
    "\n",
    "- Ryoji Ikeda </br>\n",
    "https://vimeo.com/62242278</br>\n",
    "\n",
    "- Ross Goodwin, 1 the road\n",
    "https://digitaldozen.io/projects/1-the-road/</br>\n",
    "https://www.youtube.com/watch?v=TqsW0PMd8R0</br>\n",
    "\n",
    "\n",
    "- Anna Ridler, Myriad (Tulips), Mosaic Virus (2018, 2019)</br>\n",
    "http://annaridler.com/myriad-tulips</br>\n",
    "\n",
    "- Philipp Schmitt, Humans of AI, Declassifier, a slideshow</br>\n",
    "https://thephotographersgallery.org.uk/whats-on/philipp-schmitt- </br>\n",
    "https://humans-of.ai/?img=15#35240,15837,28928,1244,2159 </br>\n",
    "\n",
    "- Kronos Quartet & Trevor Paglen: Sight Machine (2018)\n",
    "Trevor Paglen & Kronos Quartet, Sight machine</br>\n",
    "https://www.barbican.org.uk/whats-on/2019/event/kronos-quartet-</br>\n",
    "trevor-paglen-sight-machine</br>\n",
    "https://www.wired.com/video/watch/the-unsettling-performance-</br>\n",
    "that-showed-the-world-through-ai-s-eyes</br>\n",
    "https://vimeo.com/205149078</br>\n",
    "\n",
    "- Dries Depoorter, Face Detected\n",
    "https://driesdepoorter.be/facedetected/"
   ]
  }
 ],
 "metadata": {
  "language_info": {
   "name": "python"
  }
 },
 "nbformat": 4,
 "nbformat_minor": 2
}
